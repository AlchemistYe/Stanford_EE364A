{
 "cells": [
  {
   "cell_type": "code",
   "execution_count": 9,
   "metadata": {},
   "outputs": [],
   "source": [
    "import numpy as np\n",
    "import cvxpy as cp\n",
    "import matplotlib.pyplot as plt"
   ]
  },
  {
   "cell_type": "markdown",
   "metadata": {},
   "source": [
    "## Numerical perturbation analysis example"
   ]
  },
  {
   "cell_type": "code",
   "execution_count": 10,
   "metadata": {},
   "outputs": [],
   "source": [
    "x = cp.Variable(2)\n",
    "b= np.array([-2, -3, 1])\n",
    "A = np.array([[1, 2],[1, -4],[5, 76]])\n",
    "Q = np.array([[1, -0.5],[-0.5, 2]])\n",
    "f = np.array([-1, 0])"
   ]
  },
  {
   "cell_type": "code",
   "execution_count": 11,
   "metadata": {},
   "outputs": [
    {
     "name": "stdout",
     "output_type": "stream",
     "text": [
      "status optimal\n",
      "optimal value 8.222222222222221\n",
      "x value [-2.33333333  0.16666667]\n"
     ]
    }
   ],
   "source": [
    "constraints = [A@x <= b]\n",
    "obj = cp.Minimize(cp.quad_form(x, Q)+f.T@x)\n",
    "prob = cp.Problem(obj, constraints)\n",
    "optimal_value = prob.solve()\n",
    "print(\"status\", prob.status)\n",
    "print(\"optimal value\", optimal_value)\n",
    "print(\"x value\", x.value)"
   ]
  },
  {
   "cell_type": "code",
   "execution_count": 12,
   "metadata": {},
   "outputs": [
    {
     "name": "stdout",
     "output_type": "stream",
     "text": [
      "The dual variable values are: [2.74774125 2.88523345 0.04007173]\n",
      "KKT3.1 4.440892098500626e-16\n",
      "KKT3.2 0.0\n",
      "KKT3.3 5.329070518200751e-15\n",
      "KKT4.1 [1.77635684e-15 0.00000000e+00]\n"
     ]
    }
   ],
   "source": [
    "print(\"The dual variable values are:\", constraints[0].dual_value)\n",
    "lambdas = constraints[0].dual_value\n",
    "print(\"KKT3.1\", A[0]@x.value-b[0])\n",
    "print(\"KKT3.2\", A[1]@x.value-b[1])\n",
    "print(\"KKT3.3\", A[2]@x.value-b[2])\n",
    "print(\"KKT4.1\", 2*Q@x.value+f+A.T@lambdas)"
   ]
  },
  {
   "cell_type": "code",
   "execution_count": 13,
   "metadata": {},
   "outputs": [
    {
     "name": "stdout",
     "output_type": "stream",
     "text": [
      "delta1: -0.1 delta2: -0.1\n",
      "--The predicted optimal value is 8.785519691736578\n",
      "--The exact optimal value is 8.815555555555559\n",
      "delta1: -0.1 delta2: 0\n",
      "--The predicted optimal value is 8.496996346890384\n",
      "--The exact optimal value is 8.565\n",
      "delta1: -0.1 delta2: 0.1\n",
      "--The predicted optimal value is 8.208473002044192\n",
      "--The exact optimal value is 8.318888888888889\n",
      "delta1: 0 delta2: -0.1\n",
      "--The predicted optimal value is 8.510745567068415\n",
      "--The exact optimal value is 8.70638671875\n",
      "delta1: 0 delta2: 0\n",
      "--The predicted optimal value is 8.222222222222221\n",
      "--The exact optimal value is 8.222222222222221\n",
      "delta1: 0 delta2: 0.1\n",
      "--The predicted optimal value is 7.933698877376028\n",
      "--The exact optimal value is 7.980000000000002\n",
      "delta1: 0.1 delta2: -0.1\n",
      "--The predicted optimal value is 8.23597144240025\n",
      "--The exact optimal value is 8.70638671875\n",
      "delta1: 0.1 delta2: 0\n",
      "--The predicted optimal value is 7.947448097554058\n",
      "--The exact optimal value is 8.222222222222221\n",
      "delta1: 0.1 delta2: 0.1\n",
      "--The predicted optimal value is 7.658924752707865\n",
      "--The exact optimal value is 7.751525607638888\n"
     ]
    }
   ],
   "source": [
    "perturbed_set = [-0.1, 0, 0.1]\n",
    "for delta_1 in perturbed_set:\n",
    "    for delta_2 in perturbed_set:\n",
    "        print(\"delta1:\", delta_1, \"delta2:\", delta_2)\n",
    "        deltas = np.array([delta_1, delta_2])\n",
    "        p_pred= optimal_value - lambdas[0:-1].T@deltas\n",
    "        print(\"--The predicted optimal value is\", p_pred)\n",
    "        b = np.array([-2+delta_1, -3+delta_2, 1])\n",
    "        constraints = [A@x <= b]\n",
    "        obj = cp.Minimize(cp.quad_form(x, Q)+f.T@x)\n",
    "        prob = cp.Problem(obj, constraints)\n",
    "        p_exact = prob.solve()\n",
    "        print(\"--The exact optimal value is\", p_exact)"
   ]
  },
  {
   "cell_type": "markdown",
   "metadata": {},
   "source": [
    "## Option price bounds"
   ]
  },
  {
   "cell_type": "code",
   "execution_count": 14,
   "metadata": {},
   "outputs": [],
   "source": [
    "c = 1.15\n",
    "f = 0.9\n",
    "m = 200\n",
    "S0 = 1\n",
    "r = 1.05\n",
    "y = cp.Variable(m)\n",
    "S = np.linspace(0.5, 2, m)\n",
    "p_collar = cp.Variable(1)\n",
    "p = np.array([1, S0, 0.06, 0.03, 0.02, 0.01, p_collar])"
   ]
  },
  {
   "cell_type": "code",
   "execution_count": 15,
   "metadata": {},
   "outputs": [],
   "source": [
    "value_call_1 = np.array([max(0, s-1.1) for s in S])\n",
    "value_call_2 = np.array([max(0, s-1.2) for s in S])\n",
    "value_put_1 = np.array([max(0, 0.8-s) for s in S])\n",
    "value_put_2 = np.array([max(0, 0.7-s) for s in S])\n",
    "value_collar = []\n",
    "for s in S:\n",
    "    if s > c:\n",
    "        value_collar.append(c - S0)\n",
    "    elif s < f:\n",
    "        value_collar.append(f - S0)\n",
    "    else:\n",
    "        value_collar.append(s - S0)\n",
    "value_collar = np.array(value_collar)"
   ]
  },
  {
   "cell_type": "code",
   "execution_count": 16,
   "metadata": {},
   "outputs": [
    {
     "name": "stdout",
     "output_type": "stream",
     "text": [
      "optimal lower bound is 0.032619047619008155\n",
      "optimal upper bound is 0.06495039682537881\n"
     ]
    }
   ],
   "source": [
    "constraints = [y >= 0,\n",
    "               np.tile(r, m).T@y == p[0],\n",
    "               S.T@y == p[1],\n",
    "               value_call_1.T@y == p[2],\n",
    "               value_call_2.T@y == p[3],\n",
    "               value_put_1.T@y == p[4],\n",
    "               value_put_2.T@y == p[5],\n",
    "               value_collar.T@y == p[6]]\n",
    "obj_min = cp.Minimize(p_collar)\n",
    "prob = cp.Problem(obj_min, constraints)\n",
    "print(\"optimal lower bound is\", prob.solve())\n",
    "\n",
    "obj_max = cp.Maximize(p_collar)\n",
    "prob = cp.Problem(obj_max, constraints)\n",
    "print(\"optimal upper bound is\", prob.solve())"
   ]
  }
 ],
 "metadata": {
  "kernelspec": {
   "display_name": "cvxpy",
   "language": "python",
   "name": "python3"
  },
  "language_info": {
   "codemirror_mode": {
    "name": "ipython",
    "version": 3
   },
   "file_extension": ".py",
   "mimetype": "text/x-python",
   "name": "python",
   "nbconvert_exporter": "python",
   "pygments_lexer": "ipython3",
   "version": "3.11.5"
  }
 },
 "nbformat": 4,
 "nbformat_minor": 2
}
